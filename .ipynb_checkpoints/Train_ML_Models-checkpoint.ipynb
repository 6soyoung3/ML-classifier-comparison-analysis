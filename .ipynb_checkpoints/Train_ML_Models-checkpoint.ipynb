{
 "cells": [
  {
   "cell_type": "code",
   "execution_count": 1,
   "id": "f540111e",
   "metadata": {},
   "outputs": [],
   "source": [
    "import numpy as np\n",
    "from sklearn.datasets import load_diabetes\n",
    "from sklearn.neighbors import KNeighborsClassifier\n",
    "from sklearn.linear_model import LinearRegression\n",
    "import warnings\n",
    "warnings.filterwarnings(\"ignore\")"
   ]
  },
  {
   "cell_type": "markdown",
   "id": "4fb01fa4",
   "metadata": {},
   "source": [
    "# Import functions"
   ]
  },
  {
   "cell_type": "code",
   "execution_count": 2,
   "id": "4fc9c6ca",
   "metadata": {},
   "outputs": [],
   "source": [
    "import ipynb\n",
    "from ipynb.fs.defs.ML_Comparison_API import *"
   ]
  },
  {
   "cell_type": "markdown",
   "id": "063ae285",
   "metadata": {},
   "source": [
    "# Read CSV files"
   ]
  },
  {
   "cell_type": "code",
   "execution_count": 3,
   "id": "91f50eb4",
   "metadata": {},
   "outputs": [],
   "source": [
    "diabetesData = read_csv('Data/diabetes.csv')\n",
    "wineData = read_csv('Data/winequality.csv', sep=';')\n",
    "\n",
    "data = load_diabetes(as_frame=True)\n",
    "frame = data.frame"
   ]
  },
  {
   "cell_type": "code",
   "execution_count": 4,
   "id": "9a85a7b1",
   "metadata": {},
   "outputs": [],
   "source": [
    "youngerDiabetes = diabetesData[diabetesData['Age'] < diabetesData['Age'].median()]\n",
    "olderDiabetes = diabetesData[diabetesData['Age'] >= diabetesData['Age'].median()]\n",
    "\n",
    "lessPH = wineData[wineData['pH'] < wineData['pH'].median()]\n",
    "morePH = wineData[wineData['pH'] >= wineData['pH'].median()]\n",
    "\n",
    "menDiabetes = frame[frame['sex'] < 0]\n",
    "womenDiabetes = frame[frame['sex'] >= 0]"
   ]
  },
  {
   "cell_type": "code",
   "execution_count": 5,
   "id": "b7985d61",
   "metadata": {},
   "outputs": [],
   "source": [
    "diabetes_target = ['Outcome']\n",
    "diabetes_features = diabetesData.columns.difference(diabetes_target)\n",
    "\n",
    "# data of X (predictors)\n",
    "younger_X = youngerDiabetes[diabetes_features]\n",
    "older_X = olderDiabetes[diabetes_features]\n",
    "# data of Y (target)\n",
    "younger_y = youngerDiabetes[diabetes_target]\n",
    "older_y = olderDiabetes[diabetes_target]\n",
    "\n",
    "# split to training data, testing data\n",
    "younger_X_train, younger_X_test, younger_y_train, younger_y_test = train_test_split(younger_X,\n",
    "                                                                                    younger_y,\n",
    "                                                                                    random_state=1,\n",
    "                                                                                    stratify=younger_y)\n",
    "\n",
    "older_X_train, older_X_test, older_y_train, older_y_test = train_test_split(older_X,\n",
    "                                                                            older_y,\n",
    "                                                                            random_state=1,\n",
    "                                                                            stratify=older_y)"
   ]
  },
  {
   "cell_type": "code",
   "execution_count": 6,
   "id": "ce896335",
   "metadata": {},
   "outputs": [],
   "source": [
    "wine_target = ['quality']\n",
    "wine_features = wineData.columns.difference(wine_target)\n",
    "\n",
    "# data of X (predictors)\n",
    "less_X = lessPH[wine_features]\n",
    "more_X = morePH[wine_features]\n",
    "# data of Y (target)\n",
    "less_y = lessPH[wine_target]\n",
    "more_y = morePH[wine_target]\n",
    "\n",
    "less_X_train, less_X_test, less_y_train, less_y_test = train_test_split(less_X,\n",
    "                                                                        less_y,\n",
    "                                                                        random_state=1,\n",
    "                                                                        stratify=less_y)\n",
    "more_X_train, more_X_test, more_y_train, more_y_test = train_test_split(more_X,\n",
    "                                                                        more_y,\n",
    "                                                                        random_state=1,\n",
    "                                                                        stratify=more_y)"
   ]
  },
  {
   "cell_type": "code",
   "execution_count": 7,
   "id": "3bee67ab",
   "metadata": {},
   "outputs": [],
   "source": [
    "frame_X = data.data\n",
    "frame_y = data.target\n",
    "frame_features = data.feature_names\n",
    "\n",
    "frame_target = ['target']\n",
    "\n",
    "# data of X (predictors)\n",
    "men_X = menDiabetes[frame_features]\n",
    "women_X = womenDiabetes[frame_features]\n",
    "# data of Y (target)\n",
    "men_y = menDiabetes[frame_target]\n",
    "women_y = womenDiabetes[frame_target]\n",
    "\n",
    "men_X_train, men_X_test, men_y_train, men_y_test = train_test_split(men_X,\n",
    "                                                                    men_y,\n",
    "                                                                    random_state=1)\n",
    "women_X_train, women_X_test, women_y_train, women_y_test = train_test_split(women_X,\n",
    "                                                                            women_y,\n",
    "                                                                            random_state=1)"
   ]
  },
  {
   "cell_type": "code",
   "execution_count": 8,
   "id": "c733ab6d",
   "metadata": {},
   "outputs": [],
   "source": [
    "# save back to csv files\n",
    "to_csv(younger_X_train, \"Data/younger_diabetes_features_train.csv\")\n",
    "to_csv(younger_y_train, \"Data/younger_diabetes_target_train.csv\")\n",
    "to_csv(younger_X_test, \"Data/younger_diabetes_features_test.csv\")\n",
    "to_csv(younger_y_test, \"Data/younger_diabetes_target_test.csv\")\n",
    "\n",
    "to_csv(older_X_train, \"Data/older_diabetes_features_train.csv\")\n",
    "to_csv(older_y_train, \"Data/older_diabetes_target_train.csv\")\n",
    "to_csv(older_X_test, \"Data/older_diabetes_features_test.csv\")\n",
    "to_csv(older_y_test, \"Data/older_diabetes_target_test.csv\")\n",
    "\n",
    "to_csv(less_X_train, \"Data/less_PH_features_train.csv\")\n",
    "to_csv(less_y_train, \"Data/less_PH_target_train.csv\")\n",
    "to_csv(less_X_test, \"Data/less_PH_features_test.csv\")\n",
    "to_csv(less_y_test, \"Data/less_PH_target_test.csv\")\n",
    "\n",
    "to_csv(more_X_train, \"Data/more_PH_features_train.csv\")\n",
    "to_csv(more_y_train, \"Data/more_PH_target_train.csv\")\n",
    "to_csv(more_X_test, \"Data/more_PH_features_test.csv\")\n",
    "to_csv(more_y_test, \"Data/more_PH_target_test.csv\")\n",
    "\n",
    "to_csv(men_X_train, \"Data/men_diabetes_features_train.csv\")\n",
    "to_csv(men_y_train, \"Data/men_diabetes_target_test.csv\")\n",
    "to_csv(men_X_test, \"Data/men_diabetes_features_train.csv\")\n",
    "to_csv(men_y_test, \"Data/men_diabetes_target_test.csv\")\n",
    "\n",
    "to_csv(women_X_train, \"Data/women_diabetes_features_train.csv\")\n",
    "to_csv(women_y_train, \"Data/women_diabetes_target_test.csv\")\n",
    "to_csv(women_X_test, \"Data/women_diabetes_features_train.csv\")\n",
    "to_csv(women_y_test, \"Data/women_diabetes_target_test.csv\")"
   ]
  },
  {
   "cell_type": "markdown",
   "id": "7bc3f1f4",
   "metadata": {},
   "source": [
    "# Binary classification"
   ]
  },
  {
   "cell_type": "code",
   "execution_count": 9,
   "id": "3aaa5b5a",
   "metadata": {},
   "outputs": [
    {
     "data": {
      "text/html": [
       "<div>\n",
       "<style scoped>\n",
       "    .dataframe tbody tr th:only-of-type {\n",
       "        vertical-align: middle;\n",
       "    }\n",
       "\n",
       "    .dataframe tbody tr th {\n",
       "        vertical-align: top;\n",
       "    }\n",
       "\n",
       "    .dataframe thead th {\n",
       "        text-align: right;\n",
       "    }\n",
       "</style>\n",
       "<table border=\"1\" class=\"dataframe\">\n",
       "  <thead>\n",
       "    <tr style=\"text-align: right;\">\n",
       "      <th></th>\n",
       "      <th>Pregnancies</th>\n",
       "      <th>Glucose</th>\n",
       "      <th>BloodPressure</th>\n",
       "      <th>SkinThickness</th>\n",
       "      <th>Insulin</th>\n",
       "      <th>BMI</th>\n",
       "      <th>DiabetesPedigreeFunction</th>\n",
       "      <th>Age</th>\n",
       "      <th>Outcome</th>\n",
       "    </tr>\n",
       "  </thead>\n",
       "  <tbody>\n",
       "    <tr>\n",
       "      <th>0</th>\n",
       "      <td>6</td>\n",
       "      <td>148</td>\n",
       "      <td>72</td>\n",
       "      <td>35</td>\n",
       "      <td>0</td>\n",
       "      <td>33.6</td>\n",
       "      <td>0.627</td>\n",
       "      <td>50</td>\n",
       "      <td>1</td>\n",
       "    </tr>\n",
       "    <tr>\n",
       "      <th>1</th>\n",
       "      <td>1</td>\n",
       "      <td>85</td>\n",
       "      <td>66</td>\n",
       "      <td>29</td>\n",
       "      <td>0</td>\n",
       "      <td>26.6</td>\n",
       "      <td>0.351</td>\n",
       "      <td>31</td>\n",
       "      <td>0</td>\n",
       "    </tr>\n",
       "    <tr>\n",
       "      <th>2</th>\n",
       "      <td>8</td>\n",
       "      <td>183</td>\n",
       "      <td>64</td>\n",
       "      <td>0</td>\n",
       "      <td>0</td>\n",
       "      <td>23.3</td>\n",
       "      <td>0.672</td>\n",
       "      <td>32</td>\n",
       "      <td>1</td>\n",
       "    </tr>\n",
       "    <tr>\n",
       "      <th>3</th>\n",
       "      <td>1</td>\n",
       "      <td>89</td>\n",
       "      <td>66</td>\n",
       "      <td>23</td>\n",
       "      <td>94</td>\n",
       "      <td>28.1</td>\n",
       "      <td>0.167</td>\n",
       "      <td>21</td>\n",
       "      <td>0</td>\n",
       "    </tr>\n",
       "    <tr>\n",
       "      <th>4</th>\n",
       "      <td>0</td>\n",
       "      <td>137</td>\n",
       "      <td>40</td>\n",
       "      <td>35</td>\n",
       "      <td>168</td>\n",
       "      <td>43.1</td>\n",
       "      <td>2.288</td>\n",
       "      <td>33</td>\n",
       "      <td>1</td>\n",
       "    </tr>\n",
       "  </tbody>\n",
       "</table>\n",
       "</div>"
      ],
      "text/plain": [
       "   Pregnancies  Glucose  BloodPressure  SkinThickness  Insulin   BMI  \\\n",
       "0            6      148             72             35        0  33.6   \n",
       "1            1       85             66             29        0  26.6   \n",
       "2            8      183             64              0        0  23.3   \n",
       "3            1       89             66             23       94  28.1   \n",
       "4            0      137             40             35      168  43.1   \n",
       "\n",
       "   DiabetesPedigreeFunction  Age  Outcome  \n",
       "0                     0.627   50        1  \n",
       "1                     0.351   31        0  \n",
       "2                     0.672   32        1  \n",
       "3                     0.167   21        0  \n",
       "4                     2.288   33        1  "
      ]
     },
     "execution_count": 9,
     "metadata": {},
     "output_type": "execute_result"
    }
   ],
   "source": [
    "diabetesData.head()"
   ]
  },
  {
   "cell_type": "code",
   "execution_count": 10,
   "id": "1a377c89",
   "metadata": {},
   "outputs": [
    {
     "data": {
      "text/plain": [
       "False"
      ]
     },
     "execution_count": 10,
     "metadata": {},
     "output_type": "execute_result"
    }
   ],
   "source": [
    "# for checking any missing value\n",
    "# False means there is not missing value in this database\n",
    "diabetesData.isnull().values.any()"
   ]
  },
  {
   "cell_type": "code",
   "execution_count": 11,
   "id": "aa3ec908",
   "metadata": {},
   "outputs": [],
   "source": [
    "# specify decision tree model\n",
    "younger_decisionTree_model = create_decision_tree()\n",
    "older_decisionTree_model = create_decision_tree()\n",
    "\n",
    "# train(fit) decision tree classifier\n",
    "fit_decision_tree(younger_X_train.values, younger_y_train, younger_decisionTree_model)\n",
    "fit_decision_tree(older_X_train.values, older_y_train, older_decisionTree_model)\n",
    "\n",
    "# save trained classifiers in file using Pickle\n",
    "save_ML_model('ML_Models/younger_DecisionTreeClassifier', younger_decisionTree_model)\n",
    "save_ML_model('ML_Models/older_DecisionTreeClassifier', older_decisionTree_model)"
   ]
  },
  {
   "cell_type": "markdown",
   "id": "d0929a3c",
   "metadata": {},
   "source": [
    "# Multi-Class Classification"
   ]
  },
  {
   "cell_type": "code",
   "execution_count": 12,
   "id": "0d98d279",
   "metadata": {},
   "outputs": [
    {
     "data": {
      "text/html": [
       "<div>\n",
       "<style scoped>\n",
       "    .dataframe tbody tr th:only-of-type {\n",
       "        vertical-align: middle;\n",
       "    }\n",
       "\n",
       "    .dataframe tbody tr th {\n",
       "        vertical-align: top;\n",
       "    }\n",
       "\n",
       "    .dataframe thead th {\n",
       "        text-align: right;\n",
       "    }\n",
       "</style>\n",
       "<table border=\"1\" class=\"dataframe\">\n",
       "  <thead>\n",
       "    <tr style=\"text-align: right;\">\n",
       "      <th></th>\n",
       "      <th>fixed acidity</th>\n",
       "      <th>volatile acidity</th>\n",
       "      <th>citric acid</th>\n",
       "      <th>residual sugar</th>\n",
       "      <th>chlorides</th>\n",
       "      <th>free sulfur dioxide</th>\n",
       "      <th>total sulfur dioxide</th>\n",
       "      <th>density</th>\n",
       "      <th>pH</th>\n",
       "      <th>sulphates</th>\n",
       "      <th>alcohol</th>\n",
       "      <th>quality</th>\n",
       "    </tr>\n",
       "  </thead>\n",
       "  <tbody>\n",
       "    <tr>\n",
       "      <th>0</th>\n",
       "      <td>7.0</td>\n",
       "      <td>0.27</td>\n",
       "      <td>0.36</td>\n",
       "      <td>20.7</td>\n",
       "      <td>0.045</td>\n",
       "      <td>45.0</td>\n",
       "      <td>170.0</td>\n",
       "      <td>1.0010</td>\n",
       "      <td>3.00</td>\n",
       "      <td>0.45</td>\n",
       "      <td>8.8</td>\n",
       "      <td>6</td>\n",
       "    </tr>\n",
       "    <tr>\n",
       "      <th>1</th>\n",
       "      <td>6.3</td>\n",
       "      <td>0.30</td>\n",
       "      <td>0.34</td>\n",
       "      <td>1.6</td>\n",
       "      <td>0.049</td>\n",
       "      <td>14.0</td>\n",
       "      <td>132.0</td>\n",
       "      <td>0.9940</td>\n",
       "      <td>3.30</td>\n",
       "      <td>0.49</td>\n",
       "      <td>9.5</td>\n",
       "      <td>6</td>\n",
       "    </tr>\n",
       "    <tr>\n",
       "      <th>2</th>\n",
       "      <td>8.1</td>\n",
       "      <td>0.28</td>\n",
       "      <td>0.40</td>\n",
       "      <td>6.9</td>\n",
       "      <td>0.050</td>\n",
       "      <td>30.0</td>\n",
       "      <td>97.0</td>\n",
       "      <td>0.9951</td>\n",
       "      <td>3.26</td>\n",
       "      <td>0.44</td>\n",
       "      <td>10.1</td>\n",
       "      <td>6</td>\n",
       "    </tr>\n",
       "    <tr>\n",
       "      <th>3</th>\n",
       "      <td>7.2</td>\n",
       "      <td>0.23</td>\n",
       "      <td>0.32</td>\n",
       "      <td>8.5</td>\n",
       "      <td>0.058</td>\n",
       "      <td>47.0</td>\n",
       "      <td>186.0</td>\n",
       "      <td>0.9956</td>\n",
       "      <td>3.19</td>\n",
       "      <td>0.40</td>\n",
       "      <td>9.9</td>\n",
       "      <td>6</td>\n",
       "    </tr>\n",
       "    <tr>\n",
       "      <th>4</th>\n",
       "      <td>7.2</td>\n",
       "      <td>0.23</td>\n",
       "      <td>0.32</td>\n",
       "      <td>8.5</td>\n",
       "      <td>0.058</td>\n",
       "      <td>47.0</td>\n",
       "      <td>186.0</td>\n",
       "      <td>0.9956</td>\n",
       "      <td>3.19</td>\n",
       "      <td>0.40</td>\n",
       "      <td>9.9</td>\n",
       "      <td>6</td>\n",
       "    </tr>\n",
       "  </tbody>\n",
       "</table>\n",
       "</div>"
      ],
      "text/plain": [
       "   fixed acidity  volatile acidity  citric acid  residual sugar  chlorides  \\\n",
       "0            7.0              0.27         0.36            20.7      0.045   \n",
       "1            6.3              0.30         0.34             1.6      0.049   \n",
       "2            8.1              0.28         0.40             6.9      0.050   \n",
       "3            7.2              0.23         0.32             8.5      0.058   \n",
       "4            7.2              0.23         0.32             8.5      0.058   \n",
       "\n",
       "   free sulfur dioxide  total sulfur dioxide  density    pH  sulphates  \\\n",
       "0                 45.0                 170.0   1.0010  3.00       0.45   \n",
       "1                 14.0                 132.0   0.9940  3.30       0.49   \n",
       "2                 30.0                  97.0   0.9951  3.26       0.44   \n",
       "3                 47.0                 186.0   0.9956  3.19       0.40   \n",
       "4                 47.0                 186.0   0.9956  3.19       0.40   \n",
       "\n",
       "   alcohol  quality  \n",
       "0      8.8        6  \n",
       "1      9.5        6  \n",
       "2     10.1        6  \n",
       "3      9.9        6  \n",
       "4      9.9        6  "
      ]
     },
     "execution_count": 12,
     "metadata": {},
     "output_type": "execute_result"
    }
   ],
   "source": [
    "wineData.head()"
   ]
  },
  {
   "cell_type": "code",
   "execution_count": 13,
   "id": "046a8f70",
   "metadata": {},
   "outputs": [
    {
     "data": {
      "text/plain": [
       "False"
      ]
     },
     "execution_count": 13,
     "metadata": {},
     "output_type": "execute_result"
    }
   ],
   "source": [
    "# for checking any missing value\n",
    "wineData.isnull().values.any()"
   ]
  },
  {
   "cell_type": "code",
   "execution_count": 14,
   "id": "65da8d23",
   "metadata": {},
   "outputs": [],
   "source": [
    "target = ['quality']\n",
    "features = wineData.columns.difference(target)"
   ]
  },
  {
   "cell_type": "code",
   "execution_count": 15,
   "id": "9258d4b8",
   "metadata": {},
   "outputs": [
    {
     "data": {
      "text/plain": [
       "array([3, 4, 5, 6, 7, 8, 9])"
      ]
     },
     "execution_count": 15,
     "metadata": {},
     "output_type": "execute_result"
    }
   ],
   "source": [
    "# classes\n",
    "np.unique(wineData[target])"
   ]
  },
  {
   "cell_type": "code",
   "execution_count": 16,
   "id": "cc6ca4a8",
   "metadata": {},
   "outputs": [],
   "source": [
    "number_of_classes = len(np.unique(wineData[target]))\n",
    "\n",
    "# create KNN classifiers\n",
    "less_knn = KNeighborsClassifier(n_neighbors=number_of_classes)\n",
    "more_knn = KNeighborsClassifier(n_neighbors=number_of_classes)\n",
    "\n",
    "less_knn.fit(less_X_train.values, less_y_train.values.ravel())\n",
    "more_knn.fit(more_X_train.values, more_y_train.values.ravel())\n",
    "\n",
    "# save trained classifiers in file using Pickle\n",
    "save_ML_model('ML_Models/less_KNeighborsClassifier', less_knn)\n",
    "save_ML_model('ML_Models/more_KNeighborsClassifier', more_knn)"
   ]
  },
  {
   "cell_type": "markdown",
   "id": "8df88f7d",
   "metadata": {},
   "source": [
    "# Regression"
   ]
  },
  {
   "cell_type": "code",
   "execution_count": 17,
   "id": "db9bc6c7",
   "metadata": {},
   "outputs": [],
   "source": [
    "# create linear regression object\n",
    "men_regression = LinearRegression()\n",
    "women_regression = LinearRegression()\n",
    "\n",
    "# train the model using the training sets\n",
    "men_regression.fit(men_X_train, men_y_train)\n",
    "women_regression.fit(women_X_train, women_y_train)\n",
    "\n",
    "save_ML_model('ML_Models/men_LinearRegression', men_regression)\n",
    "save_ML_model('ML_Models/women_LinearRegression', women_regression)"
   ]
  }
 ],
 "metadata": {
  "kernelspec": {
   "display_name": "Python 3 (ipykernel)",
   "language": "python",
   "name": "python3"
  },
  "language_info": {
   "codemirror_mode": {
    "name": "ipython",
    "version": 3
   },
   "file_extension": ".py",
   "mimetype": "text/x-python",
   "name": "python",
   "nbconvert_exporter": "python",
   "pygments_lexer": "ipython3",
   "version": "3.9.7"
  }
 },
 "nbformat": 4,
 "nbformat_minor": 5
}
