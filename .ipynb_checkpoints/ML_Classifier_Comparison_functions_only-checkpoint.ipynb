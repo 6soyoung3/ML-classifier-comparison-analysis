{
 "cells": [
  {
   "cell_type": "code",
   "execution_count": 1,
   "id": "78f7a887",
   "metadata": {},
   "outputs": [],
   "source": [
    "import pandas as pd\n",
    "import numpy as np\n",
    "from sklearn.model_selection import train_test_split\n",
    "from sklearn.tree import DecisionTreeClassifier\n",
    "from sklearn.metrics import average_precision_score\n",
    "from sklearn.metrics import accuracy_score\n",
    "from matplotlib import pyplot as plt\n",
    "from sklearn import tree\n",
    "from sklearn.model_selection import cross_val_score\n",
    "\n",
    "import lime\n",
    "import lime.lime_tabular\n",
    "\n",
    "import holoviews as hv"
   ]
  },
  {
   "cell_type": "code",
   "execution_count": 2,
   "id": "f7b64095",
   "metadata": {},
   "outputs": [],
   "source": [
    "def read_csv(filepath):\n",
    "    data = pd.read_csv(filepath)\n",
    "    return data"
   ]
  },
  {
   "cell_type": "code",
   "execution_count": 3,
   "id": "cdf55620",
   "metadata": {},
   "outputs": [],
   "source": [
    "def split_to_2_predictors(dataset1, dataset2, features):\n",
    "    predictor1 = dataset1[features]\n",
    "    predictor2 = dataset2[features]\n",
    "    return predictor1, predictor2"
   ]
  },
  {
   "cell_type": "code",
   "execution_count": 4,
   "id": "80377370",
   "metadata": {},
   "outputs": [],
   "source": [
    "def split_to_2_targets(dataset1, dataset2, outcome):\n",
    "    target1 = dataset1[outcome]\n",
    "    target2 = dataset2[outcome]\n",
    "    return target1, target2"
   ]
  },
  {
   "cell_type": "code",
   "execution_count": 5,
   "id": "89386988",
   "metadata": {},
   "outputs": [],
   "source": [
    "def train_test_split_data(dataset_X, dataset_y):\n",
    "    return train_test_split(dataset_X, dataset_y, random_state=1, shuffle = True, stratify=dataset_y)"
   ]
  },
  {
   "cell_type": "code",
   "execution_count": 6,
   "id": "4e209573",
   "metadata": {},
   "outputs": [],
   "source": [
    "def create_decision_tree(criterion=\"gini\", splitter=\"best\", max_depth=6):\n",
    "    model = DecisionTreeClassifier(criterion=criterion, splitter=splitter, random_state=1, max_depth=max_depth)\n",
    "    return model"
   ]
  },
  {
   "cell_type": "code",
   "execution_count": 7,
   "id": "7d8f3a17",
   "metadata": {},
   "outputs": [],
   "source": [
    "def fit_decision_tree(train_X, train_y, model):\n",
    "    model.fit(train_X, train_y)"
   ]
  },
  {
   "cell_type": "code",
   "execution_count": 8,
   "id": "dab96f8f",
   "metadata": {},
   "outputs": [],
   "source": [
    "def test_decision_tree(model, testcases):\n",
    "    return model.predict(testcases)"
   ]
  },
  {
   "cell_type": "code",
   "execution_count": 9,
   "id": "9e42b1ee",
   "metadata": {},
   "outputs": [],
   "source": [
    "def calculate_accuracy(testcases, prediction_result):\n",
    "    return accuracy_score(testcases, prediction_result) * 100.00"
   ]
  },
  {
   "cell_type": "code",
   "execution_count": 10,
   "id": "ca5dcac2",
   "metadata": {},
   "outputs": [],
   "source": [
    "def calculate_similarity(prediction_result1, prediction_result2):\n",
    "    return accuracy_score(prediction_result1, prediction_result2) * 100.00"
   ]
  },
  {
   "cell_type": "code",
   "execution_count": 11,
   "id": "5e4baace",
   "metadata": {},
   "outputs": [],
   "source": [
    "def number_of_disagreed_cases(testcases, similarity):\n",
    "    # wrong_proportion = 1 - calculate_accuracy(testcases, prediction_result)\n",
    "    wrong_proportion = 1 - (similarity / 100)\n",
    "    return round(len(testcases) * wrong_proportion)"
   ]
  },
  {
   "cell_type": "code",
   "execution_count": 12,
   "id": "8515b170",
   "metadata": {},
   "outputs": [],
   "source": [
    "def return_disagreed_cases(testcases, prediction_result1, prediction_result2):\n",
    "    filters = np.logical_xor(prediction_result1, prediction_result2)\n",
    "    disagreed = testcases[filters]\n",
    "    disagreed['Agreed'] = 0\n",
    "    return disagreed"
   ]
  },
  {
   "cell_type": "code",
   "execution_count": 13,
   "id": "b0530569",
   "metadata": {},
   "outputs": [],
   "source": [
    "def return_agreed_cases(testcases, prediction_result1, prediction_result2):\n",
    "    filters = return_disagreed_cases(testcases,prediction_result1, prediction_result2)\n",
    "    agreed = testcases.loc[testcases.index.difference(filters.index)]\n",
    "    agreed['Agreed'] = 1\n",
    "    return agreed"
   ]
  },
  {
   "cell_type": "code",
   "execution_count": 14,
   "id": "a1237ab9",
   "metadata": {},
   "outputs": [],
   "source": [
    "def train_decision_tree_agreed_disagreed(all_cases, features):\n",
    "    train_X = all_cases[features]\n",
    "    train_y = all_cases.Agreed\n",
    "    model = create_decision_tree()\n",
    "    fit_decision_tree(train_X, train_y, model)\n",
    "    return model"
   ]
  },
  {
   "cell_type": "code",
   "execution_count": 18,
   "id": "5d7d29f7",
   "metadata": {},
   "outputs": [],
   "source": [
    "def disagreed_LIME(train1, train2, all_disagreed_testcases, model1, model2, features, classes):\n",
    "    train1_numpy = train1.to_numpy()\n",
    "    train2_numpy = train2.to_numpy()\n",
    "    all_disagreed_testcases_numpy = all_disagreed_testcases[features].to_numpy()\n",
    "\n",
    "    explainer = lime.lime_tabular.LimeTabularExplainer(train1_numpy,\n",
    "                                                       feature_names=features,\n",
    "                                                       class_names=classes,\n",
    "                                                       discretize_continuous=True)\n",
    "\n",
    "    i = np.random.randint(0, len(all_disagreed_testcases_numpy))\n",
    "    disagreed_case = all_disagreed_testcases_numpy[i]\n",
    "\n",
    "    exp1 = explainer.explain_instance(disagreed_case, model1.predict_proba, num_features=len(features))\n",
    "    exp1_map = exp1.as_map()\n",
    "    exp1.show_in_notebook()\n",
    "\n",
    "    explainer = lime.lime_tabular.LimeTabularExplainer(train2_numpy,\n",
    "                                                       feature_names=features,\n",
    "                                                       class_names=classes,\n",
    "                                                       discretize_continuous=True)\n",
    "\n",
    "    exp2 = explainer.explain_instance(disagreed_case, model2.predict_proba, num_features=len(features))\n",
    "    exp2_map = exp2.as_map()\n",
    "    exp2.show_in_notebook()\n",
    "    \n",
    "    exp1_result = classes[model1.predict(disagreed_case.reshape(1,-1))[0]]\n",
    "    exp2_result = classes[model2.predict(disagreed_case.reshape(1,-1))[0]]\n",
    "    \n",
    "    return exp1_map[1], exp2_map[1], disagreed_case, exp1_result, exp2_result"
   ]
  },
  {
   "cell_type": "code",
   "execution_count": 16,
   "id": "6d3c9dd2",
   "metadata": {},
   "outputs": [],
   "source": [
    "#     return feature_importance_output.plot.barh()\n",
    "def print_feature_importance(fittedmodel, features):\n",
    "    feature_importance = fittedmodel.feature_importances_\n",
    "    feature_importance_output = pd.DataFrame(feature_importance, features)\n",
    "    feature_importance_output.set_axis(['Output'], axis=1, inplace=True)\n",
    "    print(feature_importance_output)\n",
    "    ax = feature_importance_output.plot.barh()\n",
    "    return feature_importance"
   ]
  },
  {
   "cell_type": "code",
   "execution_count": 17,
   "id": "5d38e770",
   "metadata": {},
   "outputs": [],
   "source": [
    "# class_names e.g. ['0', '1']\n",
    "def visualise_decision_tree(model, features, class_names):\n",
    "    fig = plt.figure(figsize=(40,20))\n",
    "    visualisation = tree.plot_tree(model, feature_names=features, class_names=class_names, filled=True)\n",
    "    return fig"
   ]
  }
 ],
 "metadata": {
  "kernelspec": {
   "display_name": "Python 3 (ipykernel)",
   "language": "python",
   "name": "python3"
  },
  "language_info": {
   "codemirror_mode": {
    "name": "ipython",
    "version": 3
   },
   "file_extension": ".py",
   "mimetype": "text/x-python",
   "name": "python",
   "nbconvert_exporter": "python",
   "pygments_lexer": "ipython3",
   "version": "3.9.7"
  }
 },
 "nbformat": 4,
 "nbformat_minor": 5
}
