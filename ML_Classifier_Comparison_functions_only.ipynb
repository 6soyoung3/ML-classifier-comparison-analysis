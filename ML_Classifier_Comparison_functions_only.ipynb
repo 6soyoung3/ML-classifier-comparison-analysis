{
 "cells": [
  {
   "cell_type": "code",
   "execution_count": 1,
   "id": "78f7a887",
   "metadata": {},
   "outputs": [],
   "source": [
    "import pandas as pd\n",
    "import numpy as np\n",
    "from sklearn.model_selection import train_test_split\n",
    "from sklearn.tree import DecisionTreeClassifier\n",
    "from sklearn.metrics import average_precision_score\n",
    "from sklearn.metrics import accuracy_score\n",
    "from matplotlib import pyplot as plt\n",
    "from sklearn import tree\n",
    "from sklearn.model_selection import cross_val_score\n",
    "\n",
    "import lime\n",
    "import lime.lime_tabular\n",
    "\n",
    "import holoviews as hv"
   ]
  },
  {
   "cell_type": "code",
   "execution_count": 2,
   "id": "f7b64095",
   "metadata": {},
   "outputs": [],
   "source": [
    "def read_csv(filepath):\n",
    "    data = pd.read_csv(filepath)\n",
    "    data.head()\n",
    "    return data"
   ]
  },
  {
   "cell_type": "code",
   "execution_count": 3,
   "id": "cdf55620",
   "metadata": {},
   "outputs": [],
   "source": [
    "def split_to_2_predictors(dataset1, dataset2, features):\n",
    "    predictor1 = dataset1[features]\n",
    "    predictor2 = dataset2[features]\n",
    "    return predictor1, predictor2"
   ]
  },
  {
   "cell_type": "code",
   "execution_count": 4,
   "id": "80377370",
   "metadata": {},
   "outputs": [],
   "source": [
    "def split_to_2_targets(dataset1, dataset2, outcome):\n",
    "    target1 = dataset1[outcome]\n",
    "    target2 = dataset2[outcome]\n",
    "    return target1, target2"
   ]
  },
  {
   "cell_type": "code",
   "execution_count": 5,
   "id": "89386988",
   "metadata": {},
   "outputs": [],
   "source": [
    "def train_test_split_data(dataset_X, dataset_y):\n",
    "    return train_test_split(dataset_X, dataset_y, random_state=1, shuffle = True, stratify=dataset_y)"
   ]
  },
  {
   "cell_type": "code",
   "execution_count": 6,
   "id": "4e209573",
   "metadata": {},
   "outputs": [],
   "source": [
    "def create_decision_tree(max_depth=6):\n",
    "    model = DecisionTreeClassifier(random_state=1, max_depth=max_depth)\n",
    "    return model"
   ]
  },
  {
   "cell_type": "code",
   "execution_count": 7,
   "id": "44541bda",
   "metadata": {},
   "outputs": [],
   "source": [
    "def train_decision_tree(train_X, train_y, model):\n",
    "    return model.fit(train_X, train_y)"
   ]
  },
  {
   "cell_type": "code",
   "execution_count": 8,
   "id": "dab96f8f",
   "metadata": {},
   "outputs": [],
   "source": [
    "def test_decision_tree(model, testcases):\n",
    "    return model.predict(testcases)"
   ]
  },
  {
   "cell_type": "code",
   "execution_count": 9,
   "id": "9e42b1ee",
   "metadata": {},
   "outputs": [],
   "source": [
    "def calculate_accuracy(testcases, prediction_result):\n",
    "    return accuracy_score(testcases, prediction_result)"
   ]
  },
  {
   "cell_type": "code",
   "execution_count": 10,
   "id": "ca5dcac2",
   "metadata": {},
   "outputs": [],
   "source": [
    "def calculate_similarity(prediction_result1, prediction_result2):\n",
    "    return accuracy_score(prediction_result1, prediction_result2)"
   ]
  },
  {
   "cell_type": "code",
   "execution_count": 11,
   "id": "5e4baace",
   "metadata": {},
   "outputs": [],
   "source": [
    "def number_of_disagreed_cases(testcases, prediction_result):\n",
    "    wrong_proportion = 1 - calculate_accuracy(testcases, prediction_result)\n",
    "    return round(len(testcases) * wrong_proportion)"
   ]
  },
  {
   "cell_type": "code",
   "execution_count": null,
   "id": "8515b170",
   "metadata": {},
   "outputs": [],
   "source": []
  }
 ],
 "metadata": {
  "kernelspec": {
   "display_name": "Python 3",
   "language": "python",
   "name": "python3"
  },
  "language_info": {
   "codemirror_mode": {
    "name": "ipython",
    "version": 3
   },
   "file_extension": ".py",
   "mimetype": "text/x-python",
   "name": "python",
   "nbconvert_exporter": "python",
   "pygments_lexer": "ipython3",
   "version": "3.8.5"
  }
 },
 "nbformat": 4,
 "nbformat_minor": 5
}
